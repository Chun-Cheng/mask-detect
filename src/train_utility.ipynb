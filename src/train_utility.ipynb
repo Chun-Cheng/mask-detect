{
 "cells": [
  {
   "cell_type": "markdown",
   "metadata": {},
   "source": [
    "### Import libraries"
   ]
  },
  {
   "cell_type": "code",
   "execution_count": 1,
   "metadata": {},
   "outputs": [],
   "source": [
    "import os\n",
    "import re\n",
    "from tqdm import tqdm"
   ]
  },
  {
   "cell_type": "markdown",
   "metadata": {},
   "source": [
    "### Configuration"
   ]
  },
  {
   "cell_type": "code",
   "execution_count": 16,
   "metadata": {},
   "outputs": [],
   "source": [
    "root_path = \"../dataset/mask/train\"\n",
    "categories = [\"mask\"]  # fill your original categories here"
   ]
  },
  {
   "cell_type": "markdown",
   "metadata": {},
   "source": [
    "### Show category summary"
   ]
  },
  {
   "cell_type": "code",
   "execution_count": null,
   "metadata": {},
   "outputs": [],
   "source": [
    "object_count = [0 for _ in range(len(categories))]\n",
    "file_read_count = 0\n",
    "files = os.listdir(root_path)\n",
    "print(\"Reading files...\")\n",
    "for file in tqdm(files):\n",
    "    if re.match(\"image_[0-9]+.txt\", file) is not None:\n",
    "        with open(os.path.join(root_path, file), \"r\") as f:\n",
    "            lines = f.readlines()\n",
    "            for line in lines:\n",
    "                line = line.strip().split(\" \")\n",
    "                object_count[int(line[0])] += 1\n",
    "        file_read_count += 1\n",
    "\n",
    "for i in range(len(categories)):\n",
    "    print(f\"{i} {categories[i]}: {object_count[i]} items\")\n",
    "print(f\"Read {file_read_count} files\")"
   ]
  },
  {
   "cell_type": "markdown",
   "metadata": {},
   "source": [
    "### List files with specific category"
   ]
  },
  {
   "cell_type": "code",
   "execution_count": null,
   "metadata": {},
   "outputs": [],
   "source": [
    "cat = \"\"  # parameter"
   ]
  },
  {
   "cell_type": "code",
   "execution_count": null,
   "metadata": {},
   "outputs": [],
   "source": [
    "file_count = 0\n",
    "cat_index = categories.index(cat)\n",
    "print(f\"Listing files with category \\\"{cat}\\\"...\")\n",
    "for file in files:\n",
    "    if re.match(\"image_[0-9]+.txt\", file) is not None:\n",
    "        with open(os.path.join(root_path, file), \"r\") as f:\n",
    "            lines = f.readlines()\n",
    "            for line in lines:\n",
    "                line = line.strip().split(\" \")\n",
    "                if int(line[0]) == cat_index:\n",
    "                    print(file)\n",
    "                    file_count += 1\n",
    "                    break\n",
    "print(f\"Found {file_count} files with category \\\"{cat}\\\"\")\n"
   ]
  },
  {
   "cell_type": "markdown",
   "metadata": {},
   "source": [
    "### Delete un-numbered images"
   ]
  },
  {
   "cell_type": "code",
   "execution_count": null,
   "metadata": {},
   "outputs": [],
   "source": [
    "image_number = 1\n",
    "delete_count = 0\n",
    "files = os.listdir(root_path)\n",
    "print(\"Cleaning un-numbered images...\")\n",
    "for file in tqdm(files):\n",
    "    if file.endswith(\".jpg\"):\n",
    "        txt_file = file.replace(\".jpg\", \".txt\")\n",
    "        if not os.path.exists(os.path.join(root_path, txt_file)):\n",
    "            print(f\"Delete {file}\")\n",
    "            os.remove(os.path.join(root_path, file))\n",
    "            delete_count += 1\n",
    "print(f\"Delete {delete_count} images\")"
   ]
  },
  {
   "cell_type": "markdown",
   "metadata": {},
   "source": [
    "### Merge categories \n",
    "merge cat_2 into cat_1"
   ]
  },
  {
   "cell_type": "code",
   "execution_count": null,
   "metadata": {},
   "outputs": [],
   "source": [
    "cat_1 = \"\"  # parameter\n",
    "cat_2 = \"\"  # parameter"
   ]
  },
  {
   "cell_type": "code",
   "execution_count": null,
   "metadata": {},
   "outputs": [],
   "source": [
    "print(f\"Original categories: {categories}\")\n",
    "cat_1_index = categories.index(cat_1)\n",
    "cat_2_index = categories.index(cat_2)\n",
    "file_change_count = 0\n",
    "# get all images\n",
    "files = os.listdir(root_path)\n",
    "print(\"Changing category number...\")\n",
    "for file in tqdm(files):\n",
    "    if re.match(\"image_[0-9]+.txt\", file) is not None:\n",
    "        with open(os.path.join(root_path, file), \"r\") as f:\n",
    "            lines = f.readlines()\n",
    "        new_lines = []\n",
    "        for line in lines:\n",
    "            line = line.strip().split(\" \")\n",
    "            if int(line[0]) == cat_2_index:\n",
    "                line[0] = str(cat_1_index)\n",
    "            new_lines.append(\" \".join(line))\n",
    "        with open(os.path.join(root_path, file), \"w\") as f:\n",
    "            f.write(\"\\n\".join(new_lines) + \"\\n\")\n",
    "        file_change_count += 1\n",
    "        \n",
    "categories[cat_2_index] = None\n",
    "print(f\"New categories: {categories}\")\n",
    "print(f\"Change {file_change_count} files\")"
   ]
  },
  {
   "cell_type": "markdown",
   "metadata": {},
   "source": [
    "### Change category number \n",
    "from cat_1 to cat_2"
   ]
  },
  {
   "cell_type": "code",
   "execution_count": null,
   "metadata": {},
   "outputs": [],
   "source": [
    "cat_1_index = -1  # parameter\n",
    "cat_2_index = -1  # parameter"
   ]
  },
  {
   "cell_type": "code",
   "execution_count": null,
   "metadata": {},
   "outputs": [],
   "source": [
    "print(f\"Original categories: {categories}\")\n",
    "file_change_count = 0\n",
    "files = os.listdir(root_path)\n",
    "print(\"Changing category number...\")\n",
    "for file in tqdm(files):\n",
    "    if re.match(\"image_[0-9]+.txt\") is not None:\n",
    "        with open(os.path.join(root_path, file), \"r\") as f:\n",
    "            lines = f.readlines()\n",
    "            for line in lines:\n",
    "                line = line.strip().split(\" \")\n",
    "                if int(line[0]) == cat_1_index:\n",
    "                    line[0] = str(cat_2_index)\n",
    "                line = \" \".join(line)\n",
    "                with open(os.path.join(root_path, file), \"w\") as f:\n",
    "                    f.write(line + \"\\n\")\n",
    "        file_change_count += 1\n",
    "    \n",
    "categories[cat_1_index] = None\n",
    "print(f\"New categories: {categories}\")\n",
    "print(f\"Change {file_change_count} files\")"
   ]
  },
  {
   "cell_type": "markdown",
   "metadata": {},
   "source": [
    "### Delete category"
   ]
  },
  {
   "cell_type": "code",
   "execution_count": null,
   "metadata": {},
   "outputs": [],
   "source": [
    "cat = \"\"  # parameter"
   ]
  },
  {
   "cell_type": "code",
   "execution_count": null,
   "metadata": {},
   "outputs": [],
   "source": [
    "print(f\"Original categories: {categories}\")\n",
    "cat_index = categories.index(cat)\n",
    "file_change_count = 0\n",
    "files = os.listdir(root_path)\n",
    "print(\"Deleting category...\")\n",
    "for file in tqdm(files):\n",
    "    if re.match(\"image_[0-9]+.txt\", file) is not None:\n",
    "        with open(os.path.join(root_path, file), \"r\") as f:\n",
    "            lines = f.readlines()\n",
    "        new_lines = [line for line in lines if int(line.strip().split(\" \")[0]) != cat_index]\n",
    "        if new_lines:\n",
    "            with open(os.path.join(root_path, file), \"w\") as f:\n",
    "                f.write(\"\".join(new_lines))\n",
    "        else:\n",
    "            os.remove(os.path.join(root_path, file))\n",
    "        file_change_count += 1\n",
    "categories[cat_index] = None\n",
    "print(f\"New categories: {categories}\")\n",
    "print(f\"Change {file_change_count} files\")"
   ]
  }
 ],
 "metadata": {
  "kernelspec": {
   "display_name": "clothes-detect-VaFuxapO-py3.12",
   "language": "python",
   "name": "python3"
  },
  "language_info": {
   "codemirror_mode": {
    "name": "ipython",
    "version": 3
   },
   "file_extension": ".py",
   "mimetype": "text/x-python",
   "name": "python",
   "nbconvert_exporter": "python",
   "pygments_lexer": "ipython3",
   "version": "3.12.7"
  }
 },
 "nbformat": 4,
 "nbformat_minor": 2
}
